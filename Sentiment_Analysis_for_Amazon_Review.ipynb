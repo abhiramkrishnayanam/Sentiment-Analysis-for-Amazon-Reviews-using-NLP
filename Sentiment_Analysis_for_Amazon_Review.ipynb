{
 "cells": [
  {
   "cell_type": "markdown",
   "metadata": {
    "id": "N6I2jFnfWFCh"
   },
   "source": [
    "<h1 style=\"text-align: center;\">Amazon Review Sentiment Analysis<br>Using NLP</h1>"
   ]
  },
  {
   "cell_type": "code",
   "execution_count": 26,
   "metadata": {
    "id": "uNDX9x3cag3T"
   },
   "outputs": [],
   "source": [
    "import pandas as pd\n",
    "import numpy as np\n",
    "from sklearn.model_selection import train_test_split\n",
    "from sklearn.feature_extraction.text import TfidfVectorizer\n",
    "from sklearn.linear_model import LogisticRegression\n",
    "from sklearn.metrics import classification_report, accuracy_score"
   ]
  },
  {
   "cell_type": "markdown",
   "metadata": {
    "id": "KQGD7tr_bl--"
   },
   "source": [
    "### Loading the dataset\n",
    "\n",
    "Dataset : [Amazon review dataset ](https://www.kaggle.com/code/khanmdsaifullahanjar/amazon-review-sentiment-analysis-using-nltk)"
   ]
  },
  {
   "cell_type": "code",
   "execution_count": 27,
   "metadata": {
    "colab": {
     "base_uri": "https://localhost:8080/"
    },
    "id": "XvtezUHWbiFk",
    "outputId": "9c43657c-9387-43a9-9dee-93ae66cd14f8"
   },
   "outputs": [
    {
     "name": "stdout",
     "output_type": "stream",
     "text": [
      "                                          reviewText  Positive\n",
      "0  This is a one of the best apps acording to a b...         1\n",
      "1  This is a pretty good version of the game for ...         1\n",
      "2  this is a really cool game. there are a bunch ...         1\n",
      "3  This is a silly game and can be frustrating, b...         1\n",
      "4  This is a terrific game on any pad. Hrs of fun...         1\n"
     ]
    }
   ],
   "source": [
    "# Load the dataset\n",
    "df = pd.read_csv('amazon.csv')\n",
    "\n",
    "# Display the first few rows\n",
    "print(df.head())"
   ]
  },
  {
   "cell_type": "code",
   "execution_count": 28,
   "metadata": {
    "colab": {
     "base_uri": "https://localhost:8080/"
    },
    "id": "L0wPH3_0kg9-",
    "outputId": "bf710f79-ceda-4fbf-df0b-6826abf60e6c"
   },
   "outputs": [
    {
     "data": {
      "text/plain": [
       "Index(['reviewText', 'Positive'], dtype='object')"
      ]
     },
     "execution_count": 28,
     "metadata": {},
     "output_type": "execute_result"
    }
   ],
   "source": [
    "df.columns"
   ]
  },
  {
   "cell_type": "code",
   "execution_count": 29,
   "metadata": {
    "id": "MUSS2tjikmQE"
   },
   "outputs": [],
   "source": [
    "df.rename(columns={'Positive': 'sentiment'}, inplace=True)"
   ]
  },
  {
   "cell_type": "code",
   "execution_count": 30,
   "metadata": {
    "colab": {
     "base_uri": "https://localhost:8080/"
    },
    "id": "1YOlMmYjkplL",
    "outputId": "104d85f7-71ca-4d66-bb99-9cf542dbab09"
   },
   "outputs": [
    {
     "name": "stdout",
     "output_type": "stream",
     "text": [
      "sentiment\n",
      "1    15233\n",
      "0     4767\n",
      "Name: count, dtype: int64\n"
     ]
    }
   ],
   "source": [
    "# Check for class balance\n",
    "print(df['sentiment'].value_counts())"
   ]
  },
  {
   "cell_type": "markdown",
   "metadata": {
    "id": "tOK6SCCCkzzv"
   },
   "source": [
    "### Data Preprocessing:\n",
    "* Text Cleaning: Remove HTML tags, punctuation, and non-alphabetic characters.\n",
    "* Tokenization: Split text into individual words.\n",
    "* Stopword Removal: Remove common words that don't contribute much meaning (e.g., 'the', 'and').\n",
    "* Lemmatization: Reduce words to their base form (e.g., 'running' to 'run')."
   ]
  },
  {
   "cell_type": "code",
   "execution_count": 52,
   "metadata": {
    "colab": {
     "base_uri": "https://localhost:8080/"
    },
    "id": "XwRcExLoMjWY",
    "outputId": "dec80afb-de06-4b77-a34c-45e67a1c1666"
   },
   "outputs": [
    {
     "name": "stderr",
     "output_type": "stream",
     "text": [
      "[nltk_data] Downloading package punkt to /root/nltk_data...\n",
      "[nltk_data]   Unzipping tokenizers/punkt.zip.\n"
     ]
    },
    {
     "data": {
      "text/plain": [
       "True"
      ]
     },
     "execution_count": 52,
     "metadata": {},
     "output_type": "execute_result"
    }
   ],
   "source": [
    "import nltk\n",
    "nltk.download('punkt', force=True)\n"
   ]
  },
  {
   "cell_type": "code",
   "execution_count": 53,
   "metadata": {
    "id": "lfm4O4kLMpZB"
   },
   "outputs": [],
   "source": [
    "nltk.data.path.append('/root/nltk_data')\n"
   ]
  },
  {
   "cell_type": "code",
   "execution_count": 54,
   "metadata": {
    "colab": {
     "base_uri": "https://localhost:8080/"
    },
    "id": "19GxKN4Z-_xp",
    "outputId": "d451e305-b781-440e-b119-6b5ecf4e6f84"
   },
   "outputs": [
    {
     "name": "stderr",
     "output_type": "stream",
     "text": [
      "[nltk_data] Downloading package punkt_tab to /root/nltk_data...\n",
      "[nltk_data]   Package punkt_tab is already up-to-date!\n"
     ]
    },
    {
     "data": {
      "text/plain": [
       "True"
      ]
     },
     "execution_count": 54,
     "metadata": {},
     "output_type": "execute_result"
    }
   ],
   "source": [
    "import nltk\n",
    "nltk.download('punkt_tab')"
   ]
  },
  {
   "cell_type": "code",
   "execution_count": 55,
   "metadata": {
    "id": "Ju7Tn-wLkvaD"
   },
   "outputs": [],
   "source": [
    "import nltk\n",
    "from nltk.corpus import stopwords\n",
    "from nltk.tokenize import word_tokenize\n",
    "from nltk.stem import WordNetLemmatizer\n",
    "\n",
    "# # Download NLTK resources\n",
    "# nltk.download('punkt')\n",
    "# nltk.download('stopwords')\n",
    "# nltk.download('wordnet')\n",
    "\n",
    "\n",
    "# Preprocessing function\n",
    "def preprocess_text(text):\n",
    "    # Tokenization\n",
    "    tokens = word_tokenize(text)\n",
    "    # Lowercasing\n",
    "    tokens = [word.lower() for word in tokens]\n",
    "    # Removing stopwords\n",
    "    stop_words = set(stopwords.words('english'))\n",
    "    tokens = [word for word in tokens if word not in stop_words]\n",
    "    # Lemmatization\n",
    "    lemmatizer = WordNetLemmatizer()\n",
    "    tokens = [lemmatizer.lemmatize(word) for word in tokens]\n",
    "    return ' '.join(tokens)\n",
    "\n",
    "# Apply preprocessing\n",
    "df['cleaned_review'] = df['reviewText'].apply(preprocess_text)\n"
   ]
  },
  {
   "cell_type": "markdown",
   "metadata": {
    "id": "gwUSLty5UjMs"
   },
   "source": [
    "### Text Vectorization:\n",
    "\n",
    "Converting text data into numerical form that the machine learning model can process.\n",
    "\n",
    "Common techniques include:\n",
    "* TF-IDF (Term Frequency-Inverse Document Frequency): Weighs words based on their importance in a document.\n",
    "* Bag of Words (BoW): Converts each review into a vector of word counts or frequencies.\n",
    "* Word Embedding: Convert words into vectors using models like Word2Vec, GloVe, etc.\n"
   ]
  },
  {
   "cell_type": "code",
   "execution_count": 56,
   "metadata": {
    "id": "VzVDT3yr62Rh"
   },
   "outputs": [],
   "source": [
    "vectorizer = TfidfVectorizer(max_features=5000)\n",
    "X = vectorizer.fit_transform(df['cleaned_review']).toarray()\n",
    "y = df['sentiment']  # Assuming 'sentiment' is the label column\n",
    "\n",
    "# Split data\n",
    "X_train, X_test, y_train, y_test = train_test_split(X, y, test_size=0.2, random_state=42)\n"
   ]
  },
  {
   "cell_type": "markdown",
   "metadata": {
    "id": "TVls9BFnNSha"
   },
   "source": [
    "### Train a Classifier"
   ]
  },
  {
   "cell_type": "code",
   "execution_count": 57,
   "metadata": {
    "colab": {
     "base_uri": "https://localhost:8080/"
    },
    "id": "Ovd9lAmJM8IQ",
    "outputId": "eb6a3698-7f4d-4414-9f7f-79929d787bcc"
   },
   "outputs": [
    {
     "name": "stdout",
     "output_type": "stream",
     "text": [
      "Accuracy: 0.889\n",
      "              precision    recall  f1-score   support\n",
      "\n",
      "           0       0.86      0.64      0.73       958\n",
      "           1       0.89      0.97      0.93      3042\n",
      "\n",
      "    accuracy                           0.89      4000\n",
      "   macro avg       0.88      0.80      0.83      4000\n",
      "weighted avg       0.89      0.89      0.88      4000\n",
      "\n"
     ]
    }
   ],
   "source": [
    "classifier = LogisticRegression()\n",
    "classifier.fit(X_train, y_train)\n",
    "\n",
    "# Predictions\n",
    "y_pred = classifier.predict(X_test)\n",
    "\n",
    "# Evaluate\n",
    "print(\"Accuracy:\", accuracy_score(y_test, y_pred))\n",
    "print(classification_report(y_test, y_pred))\n"
   ]
  },
  {
   "cell_type": "markdown",
   "metadata": {
    "id": "nv-Fcls0U7ej"
   },
   "source": [
    "### Function to predict sentiment"
   ]
  },
  {
   "cell_type": "code",
   "execution_count": 59,
   "metadata": {
    "id": "hvMBG6YJNbEN"
   },
   "outputs": [],
   "source": [
    "def predict_sentiment(review):\n",
    "    # Preprocess the input review\n",
    "    cleaned_review = preprocess_text(review)\n",
    "    # Transform using the vectorizer\n",
    "    review_vector = vectorizer.transform([cleaned_review])\n",
    "    # Predict sentiment\n",
    "    sentiment = classifier.predict(review_vector)[0]\n",
    "    return sentiment\n"
   ]
  },
  {
   "cell_type": "markdown",
   "metadata": {
    "id": "gphdG202O46D"
   },
   "source": [
    "### Prediction"
   ]
  },
  {
   "cell_type": "code",
   "execution_count": 60,
   "metadata": {
    "colab": {
     "base_uri": "https://localhost:8080/"
    },
    "id": "eqF7CrNMNiYu",
    "outputId": "44cb2f9a-d279-49c9-ea6c-785601ec4932"
   },
   "outputs": [
    {
     "name": "stdout",
     "output_type": "stream",
     "text": [
      "Review: The product is excellent and works perfectly! Highly recommend it.\n",
      "Predicted Sentiment: Positive\n"
     ]
    }
   ],
   "source": [
    "# Example Input Review\n",
    "input_review = \"The product is excellent and works perfectly! Highly recommend it.\"\n",
    "\n",
    "# Predict sentiment\n",
    "predicted_sentiment = predict_sentiment(input_review)\n",
    "\n",
    "# Display results\n",
    "print(f\"Review: {input_review}\")\n",
    "print(f\"Predicted Sentiment: {'Positive' if predicted_sentiment == 1 else 'Negative'}\")"
   ]
  },
  {
   "cell_type": "code",
   "execution_count": 74,
   "metadata": {
    "colab": {
     "base_uri": "https://localhost:8080/"
    },
    "id": "HdimVVGzTYuX",
    "outputId": "e6a89e16-7faa-4fcb-a708-cef35f88be7c"
   },
   "outputs": [
    {
     "name": "stdout",
     "output_type": "stream",
     "text": [
      "Review: The product is very bad and works not at all perfec! Never recommend it.\n",
      "Predicted Sentiment: Negative\n"
     ]
    }
   ],
   "source": [
    "# Example Input Review\n",
    "input_review = \"The product is very bad and works not at all perfec! Never recommend it.\"\n",
    "\n",
    "# Predict sentiment\n",
    "predicted_sentiment = predict_sentiment(input_review)\n",
    "\n",
    "# Display results\n",
    "print(f\"Review: {input_review}\")\n",
    "print(f\"Predicted Sentiment: {'Positive' if predicted_sentiment == 1 else 'Negative'}\")"
   ]
  },
  {
   "cell_type": "code",
   "execution_count": null,
   "metadata": {
    "id": "ZhD35UtxTitl"
   },
   "outputs": [],
   "source": []
  }
 ],
 "metadata": {
  "colab": {
   "provenance": []
  },
  "kernelspec": {
   "display_name": "Python [conda env:base] *",
   "language": "python",
   "name": "conda-base-py"
  },
  "language_info": {
   "codemirror_mode": {
    "name": "ipython",
    "version": 3
   },
   "file_extension": ".py",
   "mimetype": "text/x-python",
   "name": "python",
   "nbconvert_exporter": "python",
   "pygments_lexer": "ipython3",
   "version": "3.12.7"
  }
 },
 "nbformat": 4,
 "nbformat_minor": 4
}
